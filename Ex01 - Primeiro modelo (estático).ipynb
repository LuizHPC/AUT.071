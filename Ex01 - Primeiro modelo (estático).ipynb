{
 "cells": [
  {
   "cell_type": "markdown",
   "metadata": {},
   "source": [
    "# TMSD - Ex01 - `[escreva seu nome aqui]`\n",
    "\n",
    "Bem vindo!\n",
    "Neste exercício computacional você utilizará o Jupyter Notebook para utilizar algumas funções preliminares e também para descrever o sistema dinâmico que você utilizará ao longo do semestre.\n",
    "\n",
    "**Instruções:**\n",
    "- Use a versão Python 3.x\n",
    "- Evite sempre usar usar laços `for` e `while`, fazer contas no formato vetorial é sempre mais rápido.\n",
    "- Não apague os comentários que já existem nas células de código. Mas é claro que você pode adicionar outros comentários.\n",
    "\n",
    "**Objetivos**\n",
    "- Iniciar o uso do Jupyter Notebook, usando linguagem Python\n",
    "- Usar funções das principais bibliotecas, como numpy e matplotlib\n",
    "- Aplicar conceitos de aprendizado de máquina em problema de regressão"
   ]
  },
  {
   "cell_type": "markdown",
   "metadata": {},
   "source": [
    "## O Jupyter notebook\n",
    "\n",
    "O Jupyter Notebook é um ambiente interativo de programação em uma página web. Nesse notebook você colocará o código entre os comentários `### SEU CÓDIGO COMEÇA AQUI ###` e `### FIM DO CÓDIGO ###`. Após escrever o código, você pode executar a célula com `Shift+Enter` ou no botão \"Run\" (com símbolo de \"play\") na barra de comandos acima.\n",
    "\n",
    "Em alguns trechos será especificado \"(≈ X linhas de código)\" nos comentários para que você tenha uma ideia sobre o tamanho do código a ser desenvolvido naquele trecho. Lembrando que é só uma estimativa, o seu código pode ficar maior ou menor do que o especificado.\n",
    "\n",
    "**Alguns atalhos úteis *no código*:**\n",
    "- `Ctrl+Enter`: executa a célula e mantém o cursor na mesma célula\n",
    "- `Shift+Enter`: executa a célula e move o cursor para a próxima célula\n",
    "- `Ctrl+/`: comenta a linha de código\n",
    "- `Shift+Tab`: quando o cursor estiver em uma função, mostra um HELP da função\n",
    "\n",
    "**Alguns atalhos úteis *na célula*:**\n",
    "- Cria nova célula `a`: acima, `b`: abaixo da céula selecionada\n",
    "- `d` (2x): deleta célula selecionada\n",
    "- `m`: define célula como texto (Markdown)\n",
    "- `y`: define célula como código (Python)\n",
    "- `l`: mostra numeração das linhas na célula de código\n",
    "- `c`: copiar, `v`: colar, `x`: recortar célula selecionada\n",
    "- `ctrl+shift+p`: mostra busca para todos comandos de célula\n",
    "\n",
    "## Primeiros passos\n",
    "Comece com um `print` de `\"Olá mundo\"` na célula abaixo."
   ]
  },
  {
   "cell_type": "code",
   "execution_count": null,
   "metadata": {},
   "outputs": [],
   "source": [
    "### SEU CÓDIGO COMEÇA AQUI ### (≈ 1 linha de código)\n",
    "None\n",
    "### FIM DO CÓDIGO ###"
   ]
  },
  {
   "cell_type": "markdown",
   "metadata": {},
   "source": [
    "**Saída esperada**:\n",
    "Olá mundo\n",
    "___"
   ]
  },
  {
   "cell_type": "markdown",
   "metadata": {},
   "source": [
    "A biblioteca NumPy é uma das mais importantes que usaremos. Cálculos matemáticos envolvendo funções, álgebra linear, números aleatórios devem ser procurados nessa biblioteca. Evite usar outras (e.g. math). Para começar, importe a biblioteca `numpy` com o alias `np`, usando o comando:\n",
    "\n",
    "`import numpy as np`\n",
    "\n",
    "Na mesma célula abaixo, teste a função seno `np.sin(x)` com entrada `x=2` (não precisa criar a variável `x`). Note que ao escrever o comando `np.sin(2)` na última linha de código da célula, o retorno da função é ecoado na saída, mostrada logo abaixo da célula. Isso é util às vezes para ver o retorno de uma função sem precisar usar o comando `print`. Se você não quiser que o valor seja ecoado na saída, basta colocar um `;` (ponto e vírgula) após o comando."
   ]
  },
  {
   "cell_type": "code",
   "execution_count": null,
   "metadata": {},
   "outputs": [],
   "source": [
    "### SEU CÓDIGO COMEÇA AQUI ### (≈ 2 linhas de código)\n",
    "None\n",
    "### FIM DO CÓDIGO ###"
   ]
  },
  {
   "cell_type": "markdown",
   "metadata": {},
   "source": [
    "**Saída esperada**:\n",
    "0.90929742682568171\n",
    "\n",
    "Na célula abaixo, use as funções abaixo com os respectivos valores apresentados e mostre os resultados na saída. Lembre-se: todas essas funções já estão implementadas no NumPy (https://numpy.org/devdocs/reference/routines.math.html), não é necessário implementá-las manualmente.\n",
    "1. Exponencial (exp): $e^x$, com $x=8$\n",
    "1. Sinal (sign): $\\rm{sign}(x)$, com $x=-inf$\n",
    "1. Tangente hiperbólica: $\\tanh(x)$, com $x=0.2$\n",
    "1. Cosseno: $\\cos(x)$, com $x=1$\n",
    "\n"
   ]
  },
  {
   "cell_type": "code",
   "execution_count": null,
   "metadata": {},
   "outputs": [],
   "source": [
    "### SEU CÓDIGO COMEÇA AQUI ### (≈ 4 linhas de código)\n",
    "None\n",
    "### FIM DO CÓDIGO ###"
   ]
  },
  {
   "cell_type": "markdown",
   "metadata": {},
   "source": [
    "**Saída esperada**:\n",
    "\n",
    "`\n",
    "Exponencial (exp):  2980.95798704\n",
    "Sinal (sign):  -1.0\n",
    "Tangente hiperbólica:  0.197375320225\n",
    "Cosseno:  0.540302305868\n",
    "`\n",
    "___"
   ]
  },
  {
   "cell_type": "markdown",
   "metadata": {},
   "source": [
    "## Plotando gráficos\n",
    "Neste exercício você implementará uma regressão polinomial para aproximar uma função senoidal no intervalo entre $0$ e $2\\pi$. Mas primeiro vamos vizualizar a função senoidal.\n",
    "1. importe a biblioteca `matplotlib.pyplot` com alias `plt`, com o comando `import matplotlib.pyplot as plt`\n",
    "1. use o comando `np.linspace(x0, xf, N)` para criar um vetor de entradas no intervalo $x\\in[x_0, x_f]$, com $x_0=0$ e $x_f=2\\pi$. Faça um vetor com 20 amostras `N=20`. *Atenção! Vetores muito grandes podem deixar o processamento mais lento!*\n",
    "1. crie um sinal `y` (sem ruído), representado por outro vetor, também de tamanho 20, com o seno da entrada, fazendo simplesmente `np.sin(x)`. O cálculo do seno é feito para cada amostra do vetor `x`.\n",
    "1. crie um segundo sinal `yd` (com ruído) que é composto por $y_d(x)=y(x)+\\xi$, sendo $\\xi$ uma variável aleatória de média nula e desvio padrão $\\sigma=0,2$ com distribuição gaussiana. Para implementar $\\xi$ faça um vetor com números aleatórios usando a função `np.random.normal` (os argumentos são a média, desvio padrão e o tamanho do vetor). Note que $\\xi$ deve ser um vetor, sendo um número diferente para cada amostra de entrada!\n",
    "1. Inicie a figura com o comando `plt.figure(figsize=(8, 2))`. Note que os valores `8` e `2` são respectivamente a largura e a altura da figura.\n",
    "1. mostre o gráfico da função com uma linha contínua para `yd` e linha tracejada para `y`. Note que é possível fazer gráficos com diferntes espessuras de linha com o parâmetro `lw=2.5`, diferentes cores com o parâmetro `c='k'` ('k': preto, 'b': azul, 'r': vermelho, 'g': verde, ...)\n",
    "1. adicione rótulo aos eixos vertical `$y(x)$` e horizontal `$x$` (note que os cifrões não aparecem no rótulo e só delimitam o início e fim da sintaxe de equações, escritas no formato LaTex).\n",
    "1. adicione o título \"Função a ser estimada\" na figura.\n",
    "1. adicione também uma legenda na figura.\n",
    "\n",
    "Você deverá usar as funções `plt.plot`, `plt.xlabel`, `plt.ylabel`, `plt.title` e `plt.legend`. O comando `plt.grid(True)` também é útil para adicionar linhas de referência no gráfico. Este tutorial pode ajudar mais: https://www.delftstack.com/pt/tutorial/matplotlib/line-chart/\n",
    "(achou um tutorial melhor? Edite esse texto incluindo o link!)"
   ]
  },
  {
   "cell_type": "code",
   "execution_count": null,
   "metadata": {
    "scrolled": true
   },
   "outputs": [],
   "source": [
    "### SEU CÓDIGO COMEÇA AQUI ### (≈ 6 linhas de código)\n",
    "N = None\n",
    "x = None\n",
    "y = None\n",
    "yd = None\n",
    "### FIM DO CÓDIGO ###"
   ]
  },
  {
   "cell_type": "markdown",
   "metadata": {},
   "source": [
    "**Saída esperada**\n",
    "\n",
    "<img src=\"files/Ex01_seno.png\">\n",
    "___\n",
    "\n",
    "### Figuras interativas\n",
    "\n",
    "Você pode adicionar interatividade nas figuras por meio do `ipympl`. Veja instruções na página https://github.com/matplotlib/ipympl. Será necessário instalar o pacote:\n",
    "- Abra o \"Anaconda Prompt\"\n",
    "- Digite o comando `conda install -c conda-forge ipympl`\n",
    "- Confirme a instalação e aguarde finalizar com sucesso\n",
    "- Reinicie o Jupyter Notebook (caso esteja aberto)\n",
    "- Para ver as figuras interativas você deve executar o comando mágico `%matplotlib widget`\n",
    "- Caso deseje ver as figuras estáticas execute `%matplotlib inline`\n",
    "\n",
    "Plote abaixo o sinal $x(t)$ de forma interativa!"
   ]
  },
  {
   "cell_type": "code",
   "execution_count": null,
   "metadata": {},
   "outputs": [],
   "source": [
    "### SEU CÓDIGO COMEÇA AQUI ### (≈ 7 linhas de código)\n",
    "None\n",
    "### FIM DO CÓDIGO ###"
   ]
  },
  {
   "cell_type": "markdown",
   "metadata": {},
   "source": [
    "**Saída esperada**\n",
    "\n",
    "*Figura interativa de um seno.*\n",
    "___"
   ]
  },
  {
   "cell_type": "markdown",
   "metadata": {},
   "source": [
    "## Regressão polinomial\n",
    "Agora você fará uma regressão polinomial do seno. Para isso, use a função `np.polyfit`.\n",
    "\n",
    "Você deve gerar três modelos estáticos polinomiais conforme abaixo:\n",
    "1. Modelo `m2`: polinômio de segundo grau\n",
    "1. Modelo `m4`: polinômio de quarto grau\n",
    "1. Modelo `m9`: polinômio de nono grau\n",
    "\n",
    "Usando a função `np.polyfit`, estime cada modelo usando o vetor de tempo `t` e a saída *com ruído* `yd`. Essas variáveis já foram criadas anteriormente, não precisa criar de novo!\n",
    "\n",
    "Após obter os coeficientes do polinômio de cada modelo, use esses modelos para gerar a saída estimada de cada um. Você deve gerar uma saída estimada `yh2` do modelo `m2`, `yh4` do modelo `m4` e `yh9` do modelo `m9`.\n",
    "\n",
    "**Dica**: para usar um modelo polinomial mais facilmente, use a função `np.poly1d`, que implementa um *objeto* polinômio. Tem um exemplo implementado no *help* da função `np.polyfit`.\n",
    "https://numpy.org/doc/stable/reference/generated/numpy.polyfit.html\n",
    "https://numpy.org/doc/stable/reference/routines.polynomials.poly1d.html\n",
    "\n",
    "Ao final, faça um gráfico contendo a saída desejada sem ruído `y` e as saídas dos modelos `yh2`, `yh4` e `yh9`. A figura deve ter legenda e rótulo nos eixos!"
   ]
  },
  {
   "cell_type": "code",
   "execution_count": null,
   "metadata": {
    "scrolled": false
   },
   "outputs": [],
   "source": [
    "### SEU CÓDIGO COMEÇA AQUI ### (≈ 15 linhas de código)\n",
    "m2 = None #modelo polinomial de segunda ordem\n",
    "m4 = None #modelo polinomial de quarta ordem\n",
    "m9 = None #modelo polinomial de nona ordem\n",
    "\n",
    "yh2 = None #saída do modelo m2 para o vetor t\n",
    "yh4 = None #saída do modelo m4 para o vetor t\n",
    "yh9 = None #saída do modelo m9 para o vetor t\n",
    "### FIM DO CÓDIGO ###"
   ]
  },
  {
   "cell_type": "markdown",
   "metadata": {},
   "source": [
    "## Criando a Função Degrau\n",
    "\n",
    "Crie abaixo uma função que, a partir de um vetor de \"tempo\" (como os vetores construidos anteriormente), retorne um vetor, de mesma dimensão, com a função degrau unitário. A função deve ter os seguintes parâmetros:\n",
    "1. Nome da função:\n",
    "  + `degrau()`\n",
    "1. Entrada:\n",
    "  + `t`: vetor de amostras, com dimensão qualquer (para saber a dimensão de um vetor use o comando `np.size` ou `len`)\n",
    "1. Saída:\n",
    "  + `u`: vetor com os respectivos valores $u(t^{(i)})$ para cada $i$-ésima amostra do vetor `t`\n",
    "\n",
    "Use o degrau unitário $u(t)$ como\n",
    "$$u(t) = 1, \\forall t >=0 \\\\ u(t) = 0, \\forall t <0$$\n",
    "\n",
    "Abaixo você deve fazer o seguinte:\n",
    "1. Crie a função `degrau()` conforme especificações\n",
    "1. Use a função criada `degrau()` para gerar um sinal de degrau na variável `u` no intervalo entre $t\\in[-5,10]$, com 200 amostras.\n",
    "2. Crie um outro sinal, na variável `ur`, em que $u_r(t)=u(t)+e(t)$, sendo $e(t)$ um ruído aleatório, gaussiano, com média nula e desvio padrão $\\sigma=0.2$.\n",
    "1. Mostre num único gráfico o sinal $u(t)$, na cor preta, tracejado, com espessura de linha `2`, e o sinal $u_r(t)$, em linha contínua, na cor vermelha, com espessura de linha `0.5`\n",
    "1. Adicione legenda no gráfico, usando o comando `plt.legend`\n",
    "1. **Sempre coloque rótulos nos eixos do gráfico!**\n",
    "\n",
    "Para contruir o sinal aleatório $e(t)$ use o comando `np.random.normal(mu, sig, N)`, em que `mu` é a média, `sig` o desvio padrão e `N` o número de elementos do vetor. Mais informações em https://numpy.org/devdocs/reference/random/generated/numpy.random.normal.html#numpy.random.normal"
   ]
  },
  {
   "cell_type": "code",
   "execution_count": null,
   "metadata": {},
   "outputs": [],
   "source": [
    "### SEU CÓDIGO COMEÇA AQUI ### (≈ 18 linhas de código)\n",
    "def degrau(t=None):\n",
    "    return None\n",
    "\n",
    "### FIM DO CÓDIGO ###"
   ]
  },
  {
   "cell_type": "markdown",
   "metadata": {},
   "source": [
    "**Saída esperada**\n",
    "\n",
    "*Gráfico da função degrau junto com um degrau com ruído.*\n",
    "___\n",
    "\n",
    "## Usando a função criada\n",
    "\n",
    "Use a função criada para produzir um sinal de \"pulso\" $p(t)$, em que:\n",
    "\n",
    "$p(t) = 1, \\forall -1 < t <= 1 \\\\ p(t) = 0, \\mathrm{c.c.}$\n",
    "\n",
    "*Lembre-se: é possível produzir um sinal \"pulso\" a partir de sinais do tipo degrau*. Faça um gráfico do sinal pulso $p(t)$ no intervalo $t\\in[-3; 3]$."
   ]
  },
  {
   "cell_type": "code",
   "execution_count": null,
   "metadata": {},
   "outputs": [],
   "source": [
    "### SEU CÓDIGO COMEÇA AQUI ###\n",
    "\n",
    "### FIM DO CÓDIGO ###"
   ]
  },
  {
   "cell_type": "markdown",
   "metadata": {},
   "source": [
    "**Saída esperada**\n",
    "\n",
    "*Gráfico da função pulso com dimensões apropriadas, rótulo nos eixos e título na imagem.*\n",
    "___\n",
    "Fim (ufa!)"
   ]
  }
 ],
 "metadata": {
  "kernelspec": {
   "display_name": "Python 3",
   "language": "python",
   "name": "python3"
  },
  "language_info": {
   "codemirror_mode": {
    "name": "ipython",
    "version": 3
   },
   "file_extension": ".py",
   "mimetype": "text/x-python",
   "name": "python",
   "nbconvert_exporter": "python",
   "pygments_lexer": "ipython3",
   "version": "3.6.10"
  },
  "toc": {
   "base_numbering": 1,
   "nav_menu": {
    "height": "228px",
    "width": "370px"
   },
   "number_sections": true,
   "sideBar": true,
   "skip_h1_title": false,
   "title_cell": "Table of Contents",
   "title_sidebar": "Contents",
   "toc_cell": false,
   "toc_position": {},
   "toc_section_display": true,
   "toc_window_display": false
  }
 },
 "nbformat": 4,
 "nbformat_minor": 2
}
